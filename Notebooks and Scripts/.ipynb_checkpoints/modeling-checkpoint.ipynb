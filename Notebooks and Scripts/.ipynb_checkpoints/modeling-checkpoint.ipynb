{
 "cells": [
  {
   "cell_type": "markdown",
   "metadata": {},
   "source": [
    "## Imports"
   ]
  },
  {
   "cell_type": "code",
   "execution_count": 39,
   "metadata": {},
   "outputs": [],
   "source": [
    "import pandas as pd\n",
    "import numpy as np\n",
    "import matplotlib.pyplot as plt"
   ]
  },
  {
   "cell_type": "code",
   "execution_count": 2,
   "metadata": {},
   "outputs": [],
   "source": [
    "from sklearn.model_selection import train_test_split\n",
    "from sklearn.ensemble import RandomForestClassifier\n",
    "from sklearn.metrics import confusion_matrix, accuracy_score, f1_score"
   ]
  },
  {
   "cell_type": "code",
   "execution_count": 3,
   "metadata": {},
   "outputs": [],
   "source": [
    "from imblearn.over_sampling import SMOTE\n",
    "from imblearn.under_sampling import RandomUnderSampler\n",
    "from imblearn.pipeline import Pipeline"
   ]
  },
  {
   "cell_type": "code",
   "execution_count": 4,
   "metadata": {},
   "outputs": [],
   "source": [
    "data_path  =r'/home/alahira/Documents/Data science projects/Xente_Fraud_Detection_Challenge/Data/'"
   ]
  },
  {
   "cell_type": "code",
   "execution_count": 11,
   "metadata": {},
   "outputs": [],
   "source": [
    "## load datasets\n",
    "num_plus_dummies = pd.read_csv(data_path + 'processed/num_plus_dummies.csv')"
   ]
  },
  {
   "cell_type": "code",
   "execution_count": 12,
   "metadata": {},
   "outputs": [
    {
     "data": {
      "text/html": [
       "<div>\n",
       "<style scoped>\n",
       "    .dataframe tbody tr th:only-of-type {\n",
       "        vertical-align: middle;\n",
       "    }\n",
       "\n",
       "    .dataframe tbody tr th {\n",
       "        vertical-align: top;\n",
       "    }\n",
       "\n",
       "    .dataframe thead th {\n",
       "        text-align: right;\n",
       "    }\n",
       "</style>\n",
       "<table border=\"1\" class=\"dataframe\">\n",
       "  <thead>\n",
       "    <tr style=\"text-align: right;\">\n",
       "      <th></th>\n",
       "      <th>Unnamed: 0</th>\n",
       "      <th>Amount</th>\n",
       "      <th>Value</th>\n",
       "      <th>ProviderId_ProviderId_1</th>\n",
       "      <th>ProviderId_ProviderId_2</th>\n",
       "      <th>ProviderId_ProviderId_3</th>\n",
       "      <th>ProviderId_ProviderId_4</th>\n",
       "      <th>ProviderId_ProviderId_5</th>\n",
       "      <th>ProviderId_ProviderId_6</th>\n",
       "      <th>ProductId_ProductId_1</th>\n",
       "      <th>...</th>\n",
       "      <th>ProductCategory_utility_bill</th>\n",
       "      <th>ChannelId_ChannelId_1</th>\n",
       "      <th>ChannelId_ChannelId_2</th>\n",
       "      <th>ChannelId_ChannelId_3</th>\n",
       "      <th>ChannelId_ChannelId_5</th>\n",
       "      <th>TransactionYear</th>\n",
       "      <th>TransactionMonth</th>\n",
       "      <th>TransactionDay</th>\n",
       "      <th>TransactionHour</th>\n",
       "      <th>FraudResult</th>\n",
       "    </tr>\n",
       "  </thead>\n",
       "  <tbody>\n",
       "    <tr>\n",
       "      <th>0</th>\n",
       "      <td>0</td>\n",
       "      <td>-0.046371</td>\n",
       "      <td>-0.072291</td>\n",
       "      <td>0</td>\n",
       "      <td>0</td>\n",
       "      <td>0</td>\n",
       "      <td>0</td>\n",
       "      <td>0</td>\n",
       "      <td>1</td>\n",
       "      <td>0</td>\n",
       "      <td>...</td>\n",
       "      <td>0</td>\n",
       "      <td>0</td>\n",
       "      <td>0</td>\n",
       "      <td>1</td>\n",
       "      <td>0</td>\n",
       "      <td>2018</td>\n",
       "      <td>11</td>\n",
       "      <td>15</td>\n",
       "      <td>2</td>\n",
       "      <td>0</td>\n",
       "    </tr>\n",
       "    <tr>\n",
       "      <th>1</th>\n",
       "      <td>1</td>\n",
       "      <td>-0.054643</td>\n",
       "      <td>-0.080251</td>\n",
       "      <td>0</td>\n",
       "      <td>0</td>\n",
       "      <td>0</td>\n",
       "      <td>1</td>\n",
       "      <td>0</td>\n",
       "      <td>0</td>\n",
       "      <td>0</td>\n",
       "      <td>...</td>\n",
       "      <td>0</td>\n",
       "      <td>0</td>\n",
       "      <td>1</td>\n",
       "      <td>0</td>\n",
       "      <td>0</td>\n",
       "      <td>2018</td>\n",
       "      <td>11</td>\n",
       "      <td>15</td>\n",
       "      <td>2</td>\n",
       "      <td>0</td>\n",
       "    </tr>\n",
       "    <tr>\n",
       "      <th>2</th>\n",
       "      <td>2</td>\n",
       "      <td>-0.050426</td>\n",
       "      <td>-0.076352</td>\n",
       "      <td>0</td>\n",
       "      <td>0</td>\n",
       "      <td>0</td>\n",
       "      <td>0</td>\n",
       "      <td>0</td>\n",
       "      <td>1</td>\n",
       "      <td>1</td>\n",
       "      <td>...</td>\n",
       "      <td>0</td>\n",
       "      <td>0</td>\n",
       "      <td>0</td>\n",
       "      <td>1</td>\n",
       "      <td>0</td>\n",
       "      <td>2018</td>\n",
       "      <td>11</td>\n",
       "      <td>15</td>\n",
       "      <td>2</td>\n",
       "      <td>0</td>\n",
       "    </tr>\n",
       "    <tr>\n",
       "      <th>3</th>\n",
       "      <td>3</td>\n",
       "      <td>0.107717</td>\n",
       "      <td>0.096648</td>\n",
       "      <td>1</td>\n",
       "      <td>0</td>\n",
       "      <td>0</td>\n",
       "      <td>0</td>\n",
       "      <td>0</td>\n",
       "      <td>0</td>\n",
       "      <td>0</td>\n",
       "      <td>...</td>\n",
       "      <td>1</td>\n",
       "      <td>0</td>\n",
       "      <td>0</td>\n",
       "      <td>1</td>\n",
       "      <td>0</td>\n",
       "      <td>2018</td>\n",
       "      <td>11</td>\n",
       "      <td>15</td>\n",
       "      <td>3</td>\n",
       "      <td>0</td>\n",
       "    </tr>\n",
       "    <tr>\n",
       "      <th>4</th>\n",
       "      <td>4</td>\n",
       "      <td>-0.059704</td>\n",
       "      <td>-0.075183</td>\n",
       "      <td>0</td>\n",
       "      <td>0</td>\n",
       "      <td>0</td>\n",
       "      <td>1</td>\n",
       "      <td>0</td>\n",
       "      <td>0</td>\n",
       "      <td>0</td>\n",
       "      <td>...</td>\n",
       "      <td>0</td>\n",
       "      <td>0</td>\n",
       "      <td>1</td>\n",
       "      <td>0</td>\n",
       "      <td>0</td>\n",
       "      <td>2018</td>\n",
       "      <td>11</td>\n",
       "      <td>15</td>\n",
       "      <td>3</td>\n",
       "      <td>0</td>\n",
       "    </tr>\n",
       "  </tbody>\n",
       "</table>\n",
       "<p>5 rows × 50 columns</p>\n",
       "</div>"
      ],
      "text/plain": [
       "   Unnamed: 0    Amount     Value  ProviderId_ProviderId_1  \\\n",
       "0           0 -0.046371 -0.072291                        0   \n",
       "1           1 -0.054643 -0.080251                        0   \n",
       "2           2 -0.050426 -0.076352                        0   \n",
       "3           3  0.107717  0.096648                        1   \n",
       "4           4 -0.059704 -0.075183                        0   \n",
       "\n",
       "   ProviderId_ProviderId_2  ProviderId_ProviderId_3  ProviderId_ProviderId_4  \\\n",
       "0                        0                        0                        0   \n",
       "1                        0                        0                        1   \n",
       "2                        0                        0                        0   \n",
       "3                        0                        0                        0   \n",
       "4                        0                        0                        1   \n",
       "\n",
       "   ProviderId_ProviderId_5  ProviderId_ProviderId_6  ProductId_ProductId_1  \\\n",
       "0                        0                        1                      0   \n",
       "1                        0                        0                      0   \n",
       "2                        0                        1                      1   \n",
       "3                        0                        0                      0   \n",
       "4                        0                        0                      0   \n",
       "\n",
       "   ...  ProductCategory_utility_bill  ChannelId_ChannelId_1  \\\n",
       "0  ...                             0                      0   \n",
       "1  ...                             0                      0   \n",
       "2  ...                             0                      0   \n",
       "3  ...                             1                      0   \n",
       "4  ...                             0                      0   \n",
       "\n",
       "   ChannelId_ChannelId_2  ChannelId_ChannelId_3  ChannelId_ChannelId_5  \\\n",
       "0                      0                      1                      0   \n",
       "1                      1                      0                      0   \n",
       "2                      0                      1                      0   \n",
       "3                      0                      1                      0   \n",
       "4                      1                      0                      0   \n",
       "\n",
       "   TransactionYear  TransactionMonth  TransactionDay  TransactionHour  \\\n",
       "0             2018                11              15                2   \n",
       "1             2018                11              15                2   \n",
       "2             2018                11              15                2   \n",
       "3             2018                11              15                3   \n",
       "4             2018                11              15                3   \n",
       "\n",
       "   FraudResult  \n",
       "0            0  \n",
       "1            0  \n",
       "2            0  \n",
       "3            0  \n",
       "4            0  \n",
       "\n",
       "[5 rows x 50 columns]"
      ]
     },
     "execution_count": 12,
     "metadata": {},
     "output_type": "execute_result"
    }
   ],
   "source": [
    "num_plus_dummies.head(5)"
   ]
  },
  {
   "cell_type": "code",
   "execution_count": 13,
   "metadata": {},
   "outputs": [],
   "source": [
    "## drop unnamed column\n",
    "num_plus_dummies.drop(labels = 'Unnamed: 0', axis = 1, inplace = True)"
   ]
  },
  {
   "cell_type": "markdown",
   "metadata": {},
   "source": [
    "**Modeling using Random Forest Classifier**"
   ]
  },
  {
   "cell_type": "code",
   "execution_count": 14,
   "metadata": {},
   "outputs": [],
   "source": [
    "## split dataset into x and y variables\n",
    "x = num_plus_dummies.drop(labels = 'FraudResult', axis = 1)\n",
    "y = num_plus_dummies['FraudResult']"
   ]
  },
  {
   "cell_type": "code",
   "execution_count": 15,
   "metadata": {},
   "outputs": [],
   "source": [
    "def split_fit(algorithm, x, y):\n",
    "    \"\"\"Splits and fits training dataset \n",
    "    \n",
    "        Parameters:\n",
    "        \n",
    "            algorithm (scikit-learn algorithm): machine learning algorithm to make \n",
    "                        predictions\n",
    "            x(iterable) : x\n",
    "            y(iterable) : y\n",
    "        \n",
    "        Returns:\n",
    "            fitted model, x_test and y_test variables\"\"\"\n",
    "    \n",
    "    x_train, x_test, y_train, y_test = train_test_split(x, y, random_state= 10, train_size =0.75)\n",
    "    \n",
    "    ##instantiate and fit algorithm\n",
    "    algorithm = algorithm()\n",
    "    fitted_algorithm = algorithm.fit(x_train, y_train)\n",
    "    \n",
    "    return fitted_algorithm, x_test, y_test"
   ]
  },
  {
   "cell_type": "code",
   "execution_count": 21,
   "metadata": {},
   "outputs": [],
   "source": [
    "first_rf, x_test, y_test = split_fit(RandomForestClassifier, x, y)\n",
    "first_rf_preds = first_rfc.predict(x_test)"
   ]
  },
  {
   "cell_type": "code",
   "execution_count": null,
   "metadata": {},
   "outputs": [],
   "source": [
    "## predict using fitted model\n",
    "#first_rf_preds = rf.predict(x_test)"
   ]
  },
  {
   "cell_type": "markdown",
   "metadata": {},
   "source": [
    "**Check metrics**"
   ]
  },
  {
   "cell_type": "code",
   "execution_count": 22,
   "metadata": {},
   "outputs": [
    {
     "data": {
      "text/plain": [
       "array([[23865,     8],\n",
       "       [    2,    41]])"
      ]
     },
     "execution_count": 22,
     "metadata": {},
     "output_type": "execute_result"
    }
   ],
   "source": [
    "confusion_matrix(y_test, first_rf_preds )"
   ]
  },
  {
   "cell_type": "code",
   "execution_count": 23,
   "metadata": {},
   "outputs": [
    {
     "data": {
      "text/plain": [
       "0.8913043478260869"
      ]
     },
     "execution_count": 23,
     "metadata": {},
     "output_type": "execute_result"
    }
   ],
   "source": [
    "f1_score(y_test, first_rf_preds )"
   ]
  },
  {
   "cell_type": "code",
   "execution_count": 24,
   "metadata": {},
   "outputs": [
    {
     "data": {
      "text/plain": [
       "0.999581869877906"
      ]
     },
     "execution_count": 24,
     "metadata": {},
     "output_type": "execute_result"
    }
   ],
   "source": [
    "accuracy_score(y_test, first_rf_preds)"
   ]
  },
  {
   "cell_type": "markdown",
   "metadata": {},
   "source": [
    "<br />\n",
    "\n",
    "**Note**\n",
    "\n",
    "Due to the inbalanced target classes, the f1_score would be a more suitable metric. Consequently, we could try to randomly the majority class and oversample the minority class in the data    "
   ]
  },
  {
   "cell_type": "code",
   "execution_count": 25,
   "metadata": {},
   "outputs": [],
   "source": [
    "# undersample and over sample target classes\n",
    "under = RandomUnderSampler(sampling_strategy=0.5)\n",
    "over = SMOTE(sampling_strategy=0.1)"
   ]
  },
  {
   "cell_type": "code",
   "execution_count": 26,
   "metadata": {},
   "outputs": [],
   "source": [
    "## create resampling pipeline\n",
    "steps = [('o', over), ('u', under)]\n",
    "pipeline = Pipeline(steps=steps)"
   ]
  },
  {
   "cell_type": "code",
   "execution_count": 27,
   "metadata": {},
   "outputs": [],
   "source": [
    "## fit and resample dataset\n",
    "x, y= pipeline.fit_resample(x, y)"
   ]
  },
  {
   "cell_type": "code",
   "execution_count": 29,
   "metadata": {},
   "outputs": [],
   "source": [
    "## split and fit dataset\n",
    "\n",
    "second_rf, x_test, y_test = split_fit(RandomForestClassifier, x, y)\n",
    "second_rf_pred = second_rf.predict(x_test)"
   ]
  },
  {
   "cell_type": "code",
   "execution_count": 30,
   "metadata": {},
   "outputs": [
    {
     "data": {
      "text/plain": [
       "array([[4743,    6],\n",
       "       [   1, 2410]])"
      ]
     },
     "execution_count": 30,
     "metadata": {},
     "output_type": "execute_result"
    }
   ],
   "source": [
    "## check confusion matrix\n",
    "confusion_matrix(y_test, second_rf_pred)"
   ]
  },
  {
   "cell_type": "code",
   "execution_count": 32,
   "metadata": {},
   "outputs": [
    {
     "name": "stdout",
     "output_type": "stream",
     "text": [
      "f1_score : 0.9985498239071887\n",
      "accracy_score : 0.9990223463687151\n"
     ]
    }
   ],
   "source": [
    "## cheeck acccuracy and f1_score\n",
    "print (f'f1_score : {f1_score(y_test, second_rf_pred)}')\n",
    "print (f'accracy_score : {accuracy_score(y_test, second_rf_pred)}')"
   ]
  },
  {
   "cell_type": "markdown",
   "metadata": {},
   "source": [
    "<br />\n",
    "\n",
    "**Note**\n",
    "\n",
    "f1_score has increased significantly"
   ]
  },
  {
   "cell_type": "markdown",
   "metadata": {},
   "source": [
    "## Feature Importance"
   ]
  },
  {
   "cell_type": "code",
   "execution_count": 53,
   "metadata": {},
   "outputs": [],
   "source": [
    "# get feature importance \n",
    "feature_importances = pd.DataFrame(second_rf.feature_importances_,\n",
    "                                   index = x_test.columns,\n",
    "                                    columns=['Feature Importance']).sort_values('Feature Importance', ascending=False)"
   ]
  },
  {
   "cell_type": "code",
   "execution_count": 54,
   "metadata": {},
   "outputs": [
    {
     "data": {
      "text/html": [
       "<div>\n",
       "<style scoped>\n",
       "    .dataframe tbody tr th:only-of-type {\n",
       "        vertical-align: middle;\n",
       "    }\n",
       "\n",
       "    .dataframe tbody tr th {\n",
       "        vertical-align: top;\n",
       "    }\n",
       "\n",
       "    .dataframe thead th {\n",
       "        text-align: right;\n",
       "    }\n",
       "</style>\n",
       "<table border=\"1\" class=\"dataframe\">\n",
       "  <thead>\n",
       "    <tr style=\"text-align: right;\">\n",
       "      <th></th>\n",
       "      <th>Feature Importance</th>\n",
       "    </tr>\n",
       "  </thead>\n",
       "  <tbody>\n",
       "    <tr>\n",
       "      <th>Value</th>\n",
       "      <td>3.366047e-01</td>\n",
       "    </tr>\n",
       "    <tr>\n",
       "      <th>Amount</th>\n",
       "      <td>3.288208e-01</td>\n",
       "    </tr>\n",
       "    <tr>\n",
       "      <th>ProductCategory_airtime</th>\n",
       "      <td>6.785291e-02</td>\n",
       "    </tr>\n",
       "    <tr>\n",
       "      <th>ProviderId_ProviderId_4</th>\n",
       "      <td>4.213964e-02</td>\n",
       "    </tr>\n",
       "    <tr>\n",
       "      <th>ProductId_ProductId_15</th>\n",
       "      <td>3.703130e-02</td>\n",
       "    </tr>\n",
       "    <tr>\n",
       "      <th>ChannelId_ChannelId_2</th>\n",
       "      <td>3.135757e-02</td>\n",
       "    </tr>\n",
       "    <tr>\n",
       "      <th>ProductId_ProductId_6</th>\n",
       "      <td>2.849611e-02</td>\n",
       "    </tr>\n",
       "    <tr>\n",
       "      <th>ProviderId_ProviderId_6</th>\n",
       "      <td>2.548432e-02</td>\n",
       "    </tr>\n",
       "    <tr>\n",
       "      <th>ProductId_ProductId_3</th>\n",
       "      <td>1.485438e-02</td>\n",
       "    </tr>\n",
       "    <tr>\n",
       "      <th>ChannelId_ChannelId_3</th>\n",
       "      <td>1.201703e-02</td>\n",
       "    </tr>\n",
       "    <tr>\n",
       "      <th>TransactionDay</th>\n",
       "      <td>1.197673e-02</td>\n",
       "    </tr>\n",
       "    <tr>\n",
       "      <th>ProductCategory_financial_services</th>\n",
       "      <td>1.105484e-02</td>\n",
       "    </tr>\n",
       "    <tr>\n",
       "      <th>ProviderId_ProviderId_5</th>\n",
       "      <td>1.045284e-02</td>\n",
       "    </tr>\n",
       "    <tr>\n",
       "      <th>ProviderId_ProviderId_3</th>\n",
       "      <td>7.616474e-03</td>\n",
       "    </tr>\n",
       "    <tr>\n",
       "      <th>ProductId_ProductId_10</th>\n",
       "      <td>6.177408e-03</td>\n",
       "    </tr>\n",
       "    <tr>\n",
       "      <th>TransactionHour</th>\n",
       "      <td>5.259204e-03</td>\n",
       "    </tr>\n",
       "    <tr>\n",
       "      <th>TransactionMonth</th>\n",
       "      <td>4.901402e-03</td>\n",
       "    </tr>\n",
       "    <tr>\n",
       "      <th>ProviderId_ProviderId_1</th>\n",
       "      <td>3.440858e-03</td>\n",
       "    </tr>\n",
       "    <tr>\n",
       "      <th>TransactionYear</th>\n",
       "      <td>2.179453e-03</td>\n",
       "    </tr>\n",
       "    <tr>\n",
       "      <th>ProductCategory_tv</th>\n",
       "      <td>1.396841e-03</td>\n",
       "    </tr>\n",
       "    <tr>\n",
       "      <th>ProductCategory_data_bundles</th>\n",
       "      <td>1.389020e-03</td>\n",
       "    </tr>\n",
       "    <tr>\n",
       "      <th>ProductId_ProductId_20</th>\n",
       "      <td>1.227198e-03</td>\n",
       "    </tr>\n",
       "    <tr>\n",
       "      <th>ProductId_ProductId_1</th>\n",
       "      <td>1.131200e-03</td>\n",
       "    </tr>\n",
       "    <tr>\n",
       "      <th>ProductCategory_utility_bill</th>\n",
       "      <td>8.974594e-04</td>\n",
       "    </tr>\n",
       "    <tr>\n",
       "      <th>ProductCategory_ticket</th>\n",
       "      <td>7.497163e-04</td>\n",
       "    </tr>\n",
       "    <tr>\n",
       "      <th>ProductId_ProductId_4</th>\n",
       "      <td>7.407630e-04</td>\n",
       "    </tr>\n",
       "    <tr>\n",
       "      <th>ProductId_ProductId_14</th>\n",
       "      <td>7.049791e-04</td>\n",
       "    </tr>\n",
       "    <tr>\n",
       "      <th>ProductId_ProductId_21</th>\n",
       "      <td>6.072215e-04</td>\n",
       "    </tr>\n",
       "    <tr>\n",
       "      <th>ProductId_ProductId_19</th>\n",
       "      <td>5.904924e-04</td>\n",
       "    </tr>\n",
       "    <tr>\n",
       "      <th>ChannelId_ChannelId_1</th>\n",
       "      <td>5.452314e-04</td>\n",
       "    </tr>\n",
       "    <tr>\n",
       "      <th>ProductId_ProductId_7</th>\n",
       "      <td>5.032298e-04</td>\n",
       "    </tr>\n",
       "    <tr>\n",
       "      <th>ProductId_ProductId_13</th>\n",
       "      <td>3.717534e-04</td>\n",
       "    </tr>\n",
       "    <tr>\n",
       "      <th>ProductId_ProductId_11</th>\n",
       "      <td>3.709781e-04</td>\n",
       "    </tr>\n",
       "    <tr>\n",
       "      <th>ChannelId_ChannelId_5</th>\n",
       "      <td>3.518309e-04</td>\n",
       "    </tr>\n",
       "    <tr>\n",
       "      <th>ProductId_ProductId_24</th>\n",
       "      <td>1.996877e-04</td>\n",
       "    </tr>\n",
       "    <tr>\n",
       "      <th>ProductId_ProductId_22</th>\n",
       "      <td>1.205607e-04</td>\n",
       "    </tr>\n",
       "    <tr>\n",
       "      <th>ProductId_ProductId_5</th>\n",
       "      <td>9.543160e-05</td>\n",
       "    </tr>\n",
       "    <tr>\n",
       "      <th>ProductCategory_transport</th>\n",
       "      <td>7.886902e-05</td>\n",
       "    </tr>\n",
       "    <tr>\n",
       "      <th>ProductId_ProductId_8</th>\n",
       "      <td>7.547594e-05</td>\n",
       "    </tr>\n",
       "    <tr>\n",
       "      <th>ProductId_ProductId_2</th>\n",
       "      <td>6.484538e-05</td>\n",
       "    </tr>\n",
       "    <tr>\n",
       "      <th>ProductCategory_movies</th>\n",
       "      <td>5.704759e-05</td>\n",
       "    </tr>\n",
       "    <tr>\n",
       "      <th>ProductId_ProductId_27</th>\n",
       "      <td>4.942909e-06</td>\n",
       "    </tr>\n",
       "    <tr>\n",
       "      <th>ProductId_ProductId_9</th>\n",
       "      <td>4.744185e-06</td>\n",
       "    </tr>\n",
       "    <tr>\n",
       "      <th>ProductId_ProductId_23</th>\n",
       "      <td>2.424065e-06</td>\n",
       "    </tr>\n",
       "    <tr>\n",
       "      <th>ProviderId_ProviderId_2</th>\n",
       "      <td>3.111156e-08</td>\n",
       "    </tr>\n",
       "    <tr>\n",
       "      <th>ProductId_ProductId_16</th>\n",
       "      <td>4.362335e-10</td>\n",
       "    </tr>\n",
       "    <tr>\n",
       "      <th>ProductCategory_other</th>\n",
       "      <td>0.000000e+00</td>\n",
       "    </tr>\n",
       "    <tr>\n",
       "      <th>ProductId_ProductId_12</th>\n",
       "      <td>0.000000e+00</td>\n",
       "    </tr>\n",
       "  </tbody>\n",
       "</table>\n",
       "</div>"
      ],
      "text/plain": [
       "                                    Feature Importance\n",
       "Value                                     3.366047e-01\n",
       "Amount                                    3.288208e-01\n",
       "ProductCategory_airtime                   6.785291e-02\n",
       "ProviderId_ProviderId_4                   4.213964e-02\n",
       "ProductId_ProductId_15                    3.703130e-02\n",
       "ChannelId_ChannelId_2                     3.135757e-02\n",
       "ProductId_ProductId_6                     2.849611e-02\n",
       "ProviderId_ProviderId_6                   2.548432e-02\n",
       "ProductId_ProductId_3                     1.485438e-02\n",
       "ChannelId_ChannelId_3                     1.201703e-02\n",
       "TransactionDay                            1.197673e-02\n",
       "ProductCategory_financial_services        1.105484e-02\n",
       "ProviderId_ProviderId_5                   1.045284e-02\n",
       "ProviderId_ProviderId_3                   7.616474e-03\n",
       "ProductId_ProductId_10                    6.177408e-03\n",
       "TransactionHour                           5.259204e-03\n",
       "TransactionMonth                          4.901402e-03\n",
       "ProviderId_ProviderId_1                   3.440858e-03\n",
       "TransactionYear                           2.179453e-03\n",
       "ProductCategory_tv                        1.396841e-03\n",
       "ProductCategory_data_bundles              1.389020e-03\n",
       "ProductId_ProductId_20                    1.227198e-03\n",
       "ProductId_ProductId_1                     1.131200e-03\n",
       "ProductCategory_utility_bill              8.974594e-04\n",
       "ProductCategory_ticket                    7.497163e-04\n",
       "ProductId_ProductId_4                     7.407630e-04\n",
       "ProductId_ProductId_14                    7.049791e-04\n",
       "ProductId_ProductId_21                    6.072215e-04\n",
       "ProductId_ProductId_19                    5.904924e-04\n",
       "ChannelId_ChannelId_1                     5.452314e-04\n",
       "ProductId_ProductId_7                     5.032298e-04\n",
       "ProductId_ProductId_13                    3.717534e-04\n",
       "ProductId_ProductId_11                    3.709781e-04\n",
       "ChannelId_ChannelId_5                     3.518309e-04\n",
       "ProductId_ProductId_24                    1.996877e-04\n",
       "ProductId_ProductId_22                    1.205607e-04\n",
       "ProductId_ProductId_5                     9.543160e-05\n",
       "ProductCategory_transport                 7.886902e-05\n",
       "ProductId_ProductId_8                     7.547594e-05\n",
       "ProductId_ProductId_2                     6.484538e-05\n",
       "ProductCategory_movies                    5.704759e-05\n",
       "ProductId_ProductId_27                    4.942909e-06\n",
       "ProductId_ProductId_9                     4.744185e-06\n",
       "ProductId_ProductId_23                    2.424065e-06\n",
       "ProviderId_ProviderId_2                   3.111156e-08\n",
       "ProductId_ProductId_16                    4.362335e-10\n",
       "ProductCategory_other                     0.000000e+00\n",
       "ProductId_ProductId_12                    0.000000e+00"
      ]
     },
     "execution_count": 54,
     "metadata": {},
     "output_type": "execute_result"
    }
   ],
   "source": [
    "feature_importances"
   ]
  },
  {
   "cell_type": "code",
   "execution_count": 64,
   "metadata": {},
   "outputs": [],
   "source": [
    "## create new dataframe using top ten most important features\n",
    "important_features = x[['Value','Amount','ProductCategory_airtime',\n",
    "                                      'ProviderId_ProviderId_4','ProductId_ProductId_15',\n",
    "                                      'ChannelId_ChannelId_2','ProductId_ProductId_6',\n",
    "                                      'ProviderId_ProviderId_6','ProductId_ProductId_3','ChannelId_ChannelId_3']]"
   ]
  },
  {
   "cell_type": "code",
   "execution_count": 66,
   "metadata": {},
   "outputs": [],
   "source": [
    "third_rf, x_test,y_test = split_fit(RandomForestClassifier, important_features, y)"
   ]
  },
  {
   "cell_type": "code",
   "execution_count": 67,
   "metadata": {},
   "outputs": [],
   "source": [
    "third_rf_preds = third_rf.predict(x_test)"
   ]
  },
  {
   "cell_type": "code",
   "execution_count": 68,
   "metadata": {},
   "outputs": [
    {
     "name": "stdout",
     "output_type": "stream",
     "text": [
      "f1_score : 0.9895963379109446\n",
      "accracy_score : 0.9930167597765364\n"
     ]
    }
   ],
   "source": [
    "## cheeck acccuracy and f1_score\n",
    "print (f'f1_score : {f1_score(y_test, third_rf_preds)}')\n",
    "print (f'accracy_score : {accuracy_score(y_test, third_rf_preds)}')"
   ]
  },
  {
   "cell_type": "markdown",
   "metadata": {},
   "source": [
    "<br />\n",
    "\n",
    "**Note**\n",
    "\n",
    "Model performance has reduced though by a number that is almost negligible. "
   ]
  },
  {
   "cell_type": "code",
   "execution_count": null,
   "metadata": {},
   "outputs": [],
   "source": []
  }
 ],
 "metadata": {
  "kernelspec": {
   "display_name": "Python 3",
   "language": "python",
   "name": "python3"
  },
  "language_info": {
   "codemirror_mode": {
    "name": "ipython",
    "version": 3
   },
   "file_extension": ".py",
   "mimetype": "text/x-python",
   "name": "python",
   "nbconvert_exporter": "python",
   "pygments_lexer": "ipython3",
   "version": "3.7.6"
  }
 },
 "nbformat": 4,
 "nbformat_minor": 4
}
