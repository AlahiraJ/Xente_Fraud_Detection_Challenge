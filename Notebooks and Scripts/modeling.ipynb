{
 "cells": [
  {
   "cell_type": "markdown",
   "metadata": {},
   "source": [
    "## Imports"
   ]
  },
  {
   "cell_type": "code",
   "execution_count": 48,
   "metadata": {},
   "outputs": [],
   "source": [
    "import pandas as pd\n",
    "import numpy as np"
   ]
  },
  {
   "cell_type": "code",
   "execution_count": 49,
   "metadata": {},
   "outputs": [],
   "source": [
    "from sklearn.model_selection import train_test_split\n",
    "from sklearn.ensemble import RandomForestClassifier\n",
    "from sklearn.metrics import confusion_matrix, accuracy_score, f1_score"
   ]
  },
  {
   "cell_type": "code",
   "execution_count": 50,
   "metadata": {},
   "outputs": [],
   "source": [
    "from imblearn.over_sampling import SMOTE\n",
    "from imblearn.under_sampling import RandomUnderSampler\n",
    "from imblearn.pipeline import Pipeline"
   ]
  },
  {
   "cell_type": "code",
   "execution_count": 51,
   "metadata": {},
   "outputs": [],
   "source": [
    "data_path  =r'/home/alahira/Documents/Data science projects/Xente_Fraud_Detection_Challenge/Data/'"
   ]
  },
  {
   "cell_type": "code",
   "execution_count": 52,
   "metadata": {},
   "outputs": [],
   "source": [
    "## load datasets\n",
    "num_plus_dummies = pd.read_csv(data_path + 'processed/num_plus_dummies.csv')"
   ]
  },
  {
   "cell_type": "code",
   "execution_count": 53,
   "metadata": {},
   "outputs": [
    {
     "data": {
      "text/html": [
       "<div>\n",
       "<style scoped>\n",
       "    .dataframe tbody tr th:only-of-type {\n",
       "        vertical-align: middle;\n",
       "    }\n",
       "\n",
       "    .dataframe tbody tr th {\n",
       "        vertical-align: top;\n",
       "    }\n",
       "\n",
       "    .dataframe thead th {\n",
       "        text-align: right;\n",
       "    }\n",
       "</style>\n",
       "<table border=\"1\" class=\"dataframe\">\n",
       "  <thead>\n",
       "    <tr style=\"text-align: right;\">\n",
       "      <th></th>\n",
       "      <th>Unnamed: 0</th>\n",
       "      <th>Amount</th>\n",
       "      <th>Value</th>\n",
       "      <th>ProviderId_ProviderId_1</th>\n",
       "      <th>ProviderId_ProviderId_2</th>\n",
       "      <th>ProviderId_ProviderId_3</th>\n",
       "      <th>ProviderId_ProviderId_4</th>\n",
       "      <th>ProviderId_ProviderId_5</th>\n",
       "      <th>ProviderId_ProviderId_6</th>\n",
       "      <th>ProductId_ProductId_1</th>\n",
       "      <th>...</th>\n",
       "      <th>ProductCategory_utility_bill</th>\n",
       "      <th>ChannelId_ChannelId_1</th>\n",
       "      <th>ChannelId_ChannelId_2</th>\n",
       "      <th>ChannelId_ChannelId_3</th>\n",
       "      <th>ChannelId_ChannelId_5</th>\n",
       "      <th>TransactionYear</th>\n",
       "      <th>TransactionMonth</th>\n",
       "      <th>TransactionDay</th>\n",
       "      <th>TransactionHour</th>\n",
       "      <th>FraudResult</th>\n",
       "    </tr>\n",
       "  </thead>\n",
       "  <tbody>\n",
       "    <tr>\n",
       "      <th>0</th>\n",
       "      <td>0</td>\n",
       "      <td>-0.046371</td>\n",
       "      <td>-0.072291</td>\n",
       "      <td>0</td>\n",
       "      <td>0</td>\n",
       "      <td>0</td>\n",
       "      <td>0</td>\n",
       "      <td>0</td>\n",
       "      <td>1</td>\n",
       "      <td>0</td>\n",
       "      <td>...</td>\n",
       "      <td>0</td>\n",
       "      <td>0</td>\n",
       "      <td>0</td>\n",
       "      <td>1</td>\n",
       "      <td>0</td>\n",
       "      <td>2018</td>\n",
       "      <td>11</td>\n",
       "      <td>15</td>\n",
       "      <td>2</td>\n",
       "      <td>0</td>\n",
       "    </tr>\n",
       "    <tr>\n",
       "      <th>1</th>\n",
       "      <td>1</td>\n",
       "      <td>-0.054643</td>\n",
       "      <td>-0.080251</td>\n",
       "      <td>0</td>\n",
       "      <td>0</td>\n",
       "      <td>0</td>\n",
       "      <td>1</td>\n",
       "      <td>0</td>\n",
       "      <td>0</td>\n",
       "      <td>0</td>\n",
       "      <td>...</td>\n",
       "      <td>0</td>\n",
       "      <td>0</td>\n",
       "      <td>1</td>\n",
       "      <td>0</td>\n",
       "      <td>0</td>\n",
       "      <td>2018</td>\n",
       "      <td>11</td>\n",
       "      <td>15</td>\n",
       "      <td>2</td>\n",
       "      <td>0</td>\n",
       "    </tr>\n",
       "    <tr>\n",
       "      <th>2</th>\n",
       "      <td>2</td>\n",
       "      <td>-0.050426</td>\n",
       "      <td>-0.076352</td>\n",
       "      <td>0</td>\n",
       "      <td>0</td>\n",
       "      <td>0</td>\n",
       "      <td>0</td>\n",
       "      <td>0</td>\n",
       "      <td>1</td>\n",
       "      <td>1</td>\n",
       "      <td>...</td>\n",
       "      <td>0</td>\n",
       "      <td>0</td>\n",
       "      <td>0</td>\n",
       "      <td>1</td>\n",
       "      <td>0</td>\n",
       "      <td>2018</td>\n",
       "      <td>11</td>\n",
       "      <td>15</td>\n",
       "      <td>2</td>\n",
       "      <td>0</td>\n",
       "    </tr>\n",
       "    <tr>\n",
       "      <th>3</th>\n",
       "      <td>3</td>\n",
       "      <td>0.107717</td>\n",
       "      <td>0.096648</td>\n",
       "      <td>1</td>\n",
       "      <td>0</td>\n",
       "      <td>0</td>\n",
       "      <td>0</td>\n",
       "      <td>0</td>\n",
       "      <td>0</td>\n",
       "      <td>0</td>\n",
       "      <td>...</td>\n",
       "      <td>1</td>\n",
       "      <td>0</td>\n",
       "      <td>0</td>\n",
       "      <td>1</td>\n",
       "      <td>0</td>\n",
       "      <td>2018</td>\n",
       "      <td>11</td>\n",
       "      <td>15</td>\n",
       "      <td>3</td>\n",
       "      <td>0</td>\n",
       "    </tr>\n",
       "    <tr>\n",
       "      <th>4</th>\n",
       "      <td>4</td>\n",
       "      <td>-0.059704</td>\n",
       "      <td>-0.075183</td>\n",
       "      <td>0</td>\n",
       "      <td>0</td>\n",
       "      <td>0</td>\n",
       "      <td>1</td>\n",
       "      <td>0</td>\n",
       "      <td>0</td>\n",
       "      <td>0</td>\n",
       "      <td>...</td>\n",
       "      <td>0</td>\n",
       "      <td>0</td>\n",
       "      <td>1</td>\n",
       "      <td>0</td>\n",
       "      <td>0</td>\n",
       "      <td>2018</td>\n",
       "      <td>11</td>\n",
       "      <td>15</td>\n",
       "      <td>3</td>\n",
       "      <td>0</td>\n",
       "    </tr>\n",
       "  </tbody>\n",
       "</table>\n",
       "<p>5 rows × 50 columns</p>\n",
       "</div>"
      ],
      "text/plain": [
       "   Unnamed: 0    Amount     Value  ProviderId_ProviderId_1  \\\n",
       "0           0 -0.046371 -0.072291                        0   \n",
       "1           1 -0.054643 -0.080251                        0   \n",
       "2           2 -0.050426 -0.076352                        0   \n",
       "3           3  0.107717  0.096648                        1   \n",
       "4           4 -0.059704 -0.075183                        0   \n",
       "\n",
       "   ProviderId_ProviderId_2  ProviderId_ProviderId_3  ProviderId_ProviderId_4  \\\n",
       "0                        0                        0                        0   \n",
       "1                        0                        0                        1   \n",
       "2                        0                        0                        0   \n",
       "3                        0                        0                        0   \n",
       "4                        0                        0                        1   \n",
       "\n",
       "   ProviderId_ProviderId_5  ProviderId_ProviderId_6  ProductId_ProductId_1  \\\n",
       "0                        0                        1                      0   \n",
       "1                        0                        0                      0   \n",
       "2                        0                        1                      1   \n",
       "3                        0                        0                      0   \n",
       "4                        0                        0                      0   \n",
       "\n",
       "   ...  ProductCategory_utility_bill  ChannelId_ChannelId_1  \\\n",
       "0  ...                             0                      0   \n",
       "1  ...                             0                      0   \n",
       "2  ...                             0                      0   \n",
       "3  ...                             1                      0   \n",
       "4  ...                             0                      0   \n",
       "\n",
       "   ChannelId_ChannelId_2  ChannelId_ChannelId_3  ChannelId_ChannelId_5  \\\n",
       "0                      0                      1                      0   \n",
       "1                      1                      0                      0   \n",
       "2                      0                      1                      0   \n",
       "3                      0                      1                      0   \n",
       "4                      1                      0                      0   \n",
       "\n",
       "   TransactionYear  TransactionMonth  TransactionDay  TransactionHour  \\\n",
       "0             2018                11              15                2   \n",
       "1             2018                11              15                2   \n",
       "2             2018                11              15                2   \n",
       "3             2018                11              15                3   \n",
       "4             2018                11              15                3   \n",
       "\n",
       "   FraudResult  \n",
       "0            0  \n",
       "1            0  \n",
       "2            0  \n",
       "3            0  \n",
       "4            0  \n",
       "\n",
       "[5 rows x 50 columns]"
      ]
     },
     "execution_count": 53,
     "metadata": {},
     "output_type": "execute_result"
    }
   ],
   "source": [
    "num_plus_dummies.head(5)"
   ]
  },
  {
   "cell_type": "code",
   "execution_count": 54,
   "metadata": {},
   "outputs": [],
   "source": [
    "## drop unnamed column\n",
    "num_plus_dummies.drop(labels = 'Unnamed: 0', axis = 1, inplace = True)"
   ]
  },
  {
   "cell_type": "markdown",
   "metadata": {},
   "source": [
    "**Modeling using Random Forest Classifier**"
   ]
  },
  {
   "cell_type": "code",
   "execution_count": 55,
   "metadata": {},
   "outputs": [],
   "source": [
    "## split dataset into x and y variables\n",
    "x = num_plus_dummies.drop(labels = 'FraudResult', axis = 1)\n",
    "y = num_plus_dummies['FraudResult']"
   ]
  },
  {
   "cell_type": "code",
   "execution_count": 56,
   "metadata": {},
   "outputs": [],
   "source": [
    "def split_fit(algorithm, x, y):\n",
    "    \"\"\"Splits and fits training dataset \n",
    "    \n",
    "        Parameters:\n",
    "        \n",
    "            algorithm (scikit-learn algorithm): machine learning algorithm to make \n",
    "                        predictions\n",
    "            x(iterable) : x\n",
    "            y(iterable) : y\n",
    "        \n",
    "        Returns:\n",
    "            fitted model, x_test and y_test variables\"\"\"\n",
    "    \n",
    "    x_train, x_test, y_train, y_test = train_test_split(x, y, random_state= 10, train_size =0.75)\n",
    "    \n",
    "    ##instantiate and fit algorithm\n",
    "    algorithm = algorithm()\n",
    "    fitted_algorithm = algorithm.fit(x_train, y_train)\n",
    "    \n",
    "    return fitted_algorithm, x_test, y_test"
   ]
  },
  {
   "cell_type": "code",
   "execution_count": 57,
   "metadata": {},
   "outputs": [],
   "source": [
    "first_rfc, x_test, y_test = split_fit(RandomForestClassifier, x, y)\n",
    "first_rfc_pred = rfc.predict(x_test)"
   ]
  },
  {
   "cell_type": "code",
   "execution_count": 58,
   "metadata": {},
   "outputs": [],
   "source": [
    "## predict using fitted model\n",
    "first_rf_preds = rf.predict(x_test)"
   ]
  },
  {
   "cell_type": "markdown",
   "metadata": {},
   "source": [
    "**Check metrics**"
   ]
  },
  {
   "cell_type": "code",
   "execution_count": 59,
   "metadata": {},
   "outputs": [
    {
     "data": {
      "text/plain": [
       "array([[23865,     8],\n",
       "       [    2,    41]])"
      ]
     },
     "execution_count": 59,
     "metadata": {},
     "output_type": "execute_result"
    }
   ],
   "source": [
    "confusion_matrix(y_test, first_rf_preds )"
   ]
  },
  {
   "cell_type": "code",
   "execution_count": 60,
   "metadata": {},
   "outputs": [
    {
     "data": {
      "text/plain": [
       "0.8913043478260869"
      ]
     },
     "execution_count": 60,
     "metadata": {},
     "output_type": "execute_result"
    }
   ],
   "source": [
    "f1_score(y_test, first_rf_preds )"
   ]
  },
  {
   "cell_type": "code",
   "execution_count": 61,
   "metadata": {},
   "outputs": [
    {
     "data": {
      "text/plain": [
       "0.999581869877906"
      ]
     },
     "execution_count": 61,
     "metadata": {},
     "output_type": "execute_result"
    }
   ],
   "source": [
    "accuracy_score(y_test, rf_preds)"
   ]
  },
  {
   "cell_type": "markdown",
   "metadata": {},
   "source": [
    "<br />\n",
    "\n",
    "**Note**\n",
    "\n",
    "Due to the inbalanced target classes, the f1_score would be a more suitable metric. Consequently, we could try to randomly the majority class and oversample the minority class in the data    "
   ]
  },
  {
   "cell_type": "code",
   "execution_count": 62,
   "metadata": {},
   "outputs": [],
   "source": [
    "# undersample and over sample target classes\n",
    "under = RandomUnderSampler(sampling_strategy=0.5)\n",
    "over = SMOTE(sampling_strategy=0.1)"
   ]
  },
  {
   "cell_type": "code",
   "execution_count": 63,
   "metadata": {},
   "outputs": [],
   "source": [
    "## create resampling pipeline\n",
    "steps = [('o', over), ('u', under)]\n",
    "pipeline = Pipeline(steps=steps)"
   ]
  },
  {
   "cell_type": "code",
   "execution_count": 64,
   "metadata": {},
   "outputs": [],
   "source": [
    "## fit and resample dataset\n",
    "x, y= pipeline.fit_resample(x, y)"
   ]
  },
  {
   "cell_type": "code",
   "execution_count": 65,
   "metadata": {},
   "outputs": [],
   "source": [
    "## split and fit dataset\n",
    "\n",
    "second_rfc, x_test, y_test = split_fit(RandomForestClassifier, x, y)\n",
    "second_rfc_pred = rfc.predict(x_test)"
   ]
  },
  {
   "cell_type": "code",
   "execution_count": 66,
   "metadata": {},
   "outputs": [
    {
     "data": {
      "text/plain": [
       "array([[4747,    2],\n",
       "       [   1, 2410]])"
      ]
     },
     "execution_count": 66,
     "metadata": {},
     "output_type": "execute_result"
    }
   ],
   "source": [
    "## check confusion matrix\n",
    "confusion_matrix(y_test, second_rfc_pred)"
   ]
  },
  {
   "cell_type": "code",
   "execution_count": 67,
   "metadata": {},
   "outputs": [
    {
     "name": "stdout",
     "output_type": "stream",
     "text": [
      "f1_score : 0.9993779805100559\n",
      "accracy_score : 0.9995810055865921\n"
     ]
    }
   ],
   "source": [
    "## cheeck acccuracy and f1_score\n",
    "print (f'f1_score : {f1_score(y_test, second_rfc_pred)}')\n",
    "print (f'accracy_score : {accuracy_score(y_test, second_rfc_pred)}')"
   ]
  },
  {
   "cell_type": "markdown",
   "metadata": {},
   "source": [
    "<br />\n",
    "\n",
    "**Note**\n",
    "\n",
    "f1_score has increased significantly"
   ]
  },
  {
   "cell_type": "code",
   "execution_count": null,
   "metadata": {},
   "outputs": [],
   "source": []
  }
 ],
 "metadata": {
  "kernelspec": {
   "display_name": "Python 3",
   "language": "python",
   "name": "python3"
  },
  "language_info": {
   "codemirror_mode": {
    "name": "ipython",
    "version": 3
   },
   "file_extension": ".py",
   "mimetype": "text/x-python",
   "name": "python",
   "nbconvert_exporter": "python",
   "pygments_lexer": "ipython3",
   "version": "3.7.6"
  }
 },
 "nbformat": 4,
 "nbformat_minor": 4
}
